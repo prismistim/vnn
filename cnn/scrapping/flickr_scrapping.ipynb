{
 "cells": [
  {
   "cell_type": "markdown",
   "metadata": {
    "collapsed": true
   },
   "source": [
    "# Flickr APIで画像スクレイピング\n",
    "http://ykubot.com/2017/11/05/flickr-api/"
   ]
  },
  {
   "cell_type": "code",
   "execution_count": null,
   "metadata": {},
   "outputs": [],
   "source": [
    "!pip3 install --upgrade flickrapi\n",
    "!pip3 install --upgrade retry"
   ]
  },
  {
   "cell_type": "code",
   "execution_count": null,
   "metadata": {},
   "outputs": [],
   "source": [
    "import os\n",
    " \n",
    "import time\n",
    "import traceback\n",
    " \n",
    "import flickrapi\n",
    "from urllib.request import urlretrieve\n",
    " \n",
    "import sys\n",
    "from retry import retry\n",
    " \n",
    "flickr_api_key = \"3e4b49f49d0fc17b5e43704c0324cac3\"\n",
    "secret_key = \"176eb523452a1a24\"\n",
    " \n",
    "keyword = 'cherry blossom'\n",
    " \n",
    " \n",
    "@retry()\n",
    "def get_photos(url, filepath):\n",
    "    urlretrieve(url, filepath)\n",
    "    time.sleep(1)\n",
    " \n",
    " \n",
    "if __name__ == '__main__':\n",
    " \n",
    "    flicker = flickrapi.FlickrAPI(flickr_api_key, secret_key, format='parsed-json')\n",
    "    response = flicker.photos.search(\n",
    "        text=keyword,\n",
    "        per_page=300,\n",
    "        media='photos',\n",
    "        sort='relevance',\n",
    "        safe_search=1,\n",
    "        extras='url_q,license'\n",
    "    )\n",
    "    photos = response['photos']\n",
    " \n",
    "    try:\n",
    "        if not os.path.exists('./get_image/' + keyword):\n",
    "            os.mkdir('./get_image/' + keyword)\n",
    "        sys.stdout.write(\"[\")\n",
    " \n",
    "        for photo in photos['photo']:\n",
    "            url_q = photo['url_q']\n",
    "            filepath = './get_image/' + keyword + '/' + photo['id'] + '.jpg'\n",
    "            get_photos(url_q, filepath)\n",
    "            sys.stdout.write(\"■\")\n",
    "        \n",
    "        sys.stdout.write(\"]\")\n",
    "        print(\"おわったよ\")\n",
    " \n",
    "    except Exception as e:\n",
    "        traceback.print_exc()"
   ]
  }
 ],
 "metadata": {
  "kernelspec": {
   "display_name": "Python 2",
   "language": "python",
   "name": "python2"
  },
  "language_info": {
   "codemirror_mode": {
    "name": "ipython",
    "version": 2
   },
   "file_extension": ".py",
   "mimetype": "text/x-python",
   "name": "python",
   "nbconvert_exporter": "python",
   "pygments_lexer": "ipython2",
   "version": "2.7.6"
  }
 },
 "nbformat": 4,
 "nbformat_minor": 0
}
